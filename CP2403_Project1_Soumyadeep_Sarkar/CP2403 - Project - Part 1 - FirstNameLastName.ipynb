{
 "cells": [
  {
   "cell_type": "markdown",
   "metadata": {},
   "source": [
    "# First Name: Soumyadeep \n",
    "# Last Name: Sarkar"
   ]
  },
  {
   "cell_type": "markdown",
   "metadata": {},
   "source": [
    "# Import Libraries  "
   ]
  },
  {
   "cell_type": "code",
   "execution_count": null,
   "metadata": {},
   "outputs": [],
   "source": [
    "import pandas as pd\n",
    "import numpy as np\n",
    "import seaborn as sns\n",
    "import matplotlib.pyplot as plt"
   ]
  },
  {
   "cell_type": "markdown",
   "metadata": {},
   "source": [
    "# Import Data"
   ]
  },
  {
   "cell_type": "code",
   "execution_count": null,
   "metadata": {},
   "outputs": [],
   "source": [
    "# Read dataset.\n",
    "bottle = pd.read_csv(\"bottle.csv\", low_memory=False) # Read data from the bottle.csv file.\n",
    "pd.set_option('display.float_format', lambda x:'%f'%x)\n",
    "len(bottle) # Find the size of the csv file."
   ]
  },
  {
   "cell_type": "markdown",
   "metadata": {},
   "source": [
    "# Data management "
   ]
  },
  {
   "cell_type": "code",
   "execution_count": null,
   "metadata": {},
   "outputs": [],
   "source": [
    "# Convert variables to numeric.\n",
    "bottle[\"Depthm\"] = pd.to_numeric(bottle[\"Depthm\"], errors=\"coerce\") # Convert the data from string to numeric data type.\n",
    "bottle[\"PO4uM\"] = pd.to_numeric(bottle[\"PO4uM\"], errors=\"coerce\")\n",
    "bottle[\"SiO3uM\"] = pd.to_numeric(bottle[\"SiO3uM\"], errors=\"coerce\")\n",
    "bottle[\"T_degC\"] = pd.to_numeric(bottle[\"T_degC\"], errors=\"coerce\")\n",
    "bottle[\"NO2uM\"] = pd.to_numeric(bottle[\"NO2uM\"], errors=\"coerce\")\n",
    "bottle[\"NO3uM\"] = pd.to_numeric(bottle[\"NO3uM\"], errors=\"coerce\")\n",
    "bottle[\"NH3uM\"] = pd.to_numeric(bottle[\"NH3uM\"], errors=\"coerce\")\n",
    "bottle[\"STheta\"] = pd.to_numeric(bottle[\"STheta\"], errors=\"coerce\")\n",
    "bottle[\"PO4uM\"].describe()"
   ]
  },
  {
   "cell_type": "code",
   "execution_count": null,
   "metadata": {},
   "outputs": [],
   "source": [
    "# Replace nan values with 0.\n",
    "bottle[\"SiO3uM\"] = bottle[\"SiO3uM\"].fillna(0) \n",
    "bottle[\"Oxy_µmol/Kg\"] = bottle[\"Oxy_µmol/Kg\"].fillna(0)\n",
    "bottle[\"NO2uM\"] = bottle[\"NO2uM\"].fillna(0)\n",
    "bottle[\"NO3uM\"] = bottle[\"NO3uM\"].fillna(0)\n",
    "bottle['NH3uM'] = bottle['NH3uM'].fillna(0)\n",
    "bottle[\"STheta\"] = bottle[\"STheta\"].fillna(0)"
   ]
  },
  {
   "cell_type": "markdown",
   "metadata": {},
   "source": [
    "# Box plot"
   ]
  },
  {
   "cell_type": "code",
   "execution_count": null,
   "metadata": {},
   "outputs": [],
   "source": [
    "# Obtain a subset of the data such that Si03uM is recorded and Depthm <= 1000 (no recordings for Si03uM past this depth).\n",
    "sub1 = bottle[(bottle['SiO3uM'] != 0) & (bottle[\"Depthm\"] <= 1000)].copy()"
   ]
  },
  {
   "cell_type": "code",
   "execution_count": null,
   "metadata": {},
   "outputs": [],
   "source": [
    "# Create a new variable, DEPTHCATEGORY, by cutting Depthm into 5 categories.\n",
    "sub1[\"DEPTHCATEGORY\"] = pd.cut(sub1[\"Depthm\"], [0, 200, 400, 600, 800, 1000])\n",
    "sub1[\"DEPTHCATEGORY\"] = sub1[\"DEPTHCATEGORY\"].astype(\"category\")\n",
    "sub1[\"DEPTHCATEGORY\"].value_counts()"
   ]
  },
  {
   "cell_type": "code",
   "execution_count": null,
   "metadata": {},
   "outputs": [],
   "source": [
    "%matplotlib inline\n",
    "# Box Plot.\n",
    "sns.boxplot(x='DEPTHCATEGORY', y='SiO3uM', data=sub1)\n",
    "plt.xlabel(\"Depth (m)\") # Indicating the x-axis of the graph.\n",
    "plt.ylabel(\"Silicate Concentration (µmol/L)\") # Indicating the y-axis of the graph.\n",
    "plt.title(\"Silicate Concentration of Water at Different Depths\") # Naming the graph."
   ]
  },
  {
   "cell_type": "markdown",
   "metadata": {},
   "source": [
    "# Histogram "
   ]
  },
  {
   "cell_type": "code",
   "execution_count": null,
   "metadata": {},
   "outputs": [],
   "source": [
    "# Obtain a subset of the data such that depth <= 50m\n",
    "sub6 = bottle[(bottle[\"Depthm\"] <= 50)].copy()"
   ]
  },
  {
   "cell_type": "code",
   "execution_count": null,
   "metadata": {},
   "outputs": [],
   "source": [
    "# Describe variable T_degC.\n",
    "bottle[\"T_degC\"].describe()"
   ]
  },
  {
   "cell_type": "code",
   "execution_count": null,
   "metadata": {},
   "outputs": [],
   "source": [
    "%matplotlib inline\n",
    "# Histogram.\n",
    "plt.figure(figsize=(10, 10)) # Defining the size of the plot.\n",
    "sns.histplot(sub6[\"T_degC\"].dropna(), kde=False)\n",
    "plt.xlabel(\"Temperature in Degrees C\") # Naming the x-axis of the plot.\n",
    "plt.title(\"Temperature of Water for Depth up to 50m\");"
   ]
  },
  {
   "cell_type": "markdown",
   "metadata": {},
   "source": [
    "# Line chart "
   ]
  },
  {
   "cell_type": "code",
   "execution_count": null,
   "metadata": {},
   "outputs": [],
   "source": [
    "# Obtain a subset of the data such that Oxy_µmol/Kg is recorded.\n",
    "sub2 = bottle[(bottle[\"Oxy_µmol/Kg\"] != 0) & (bottle[\"Depthm\"] <= 500)].copy()\n",
    "sub2[\"Oxy_µmol/Kg\"].value_counts(sort=False, dropna=False)"
   ]
  },
  {
   "cell_type": "code",
   "execution_count": null,
   "metadata": {},
   "outputs": [],
   "source": [
    "# Group Oxy_µmol/Kg by water depth.\n",
    "var1 = sub2.groupby([\"Depthm\"])[\"Oxy_µmol/Kg\"].mean()\n",
    "var1"
   ]
  },
  {
   "cell_type": "code",
   "execution_count": null,
   "metadata": {},
   "outputs": [],
   "source": [
    "%matplotlib inline\n",
    "# Line Chart.\n",
    "plt.figure(figsize=(10, 10))\n",
    "var1.plot(kind=\"line\");\n",
    "plt.xlabel(\"Depth in m\") # Naming the x-axis.\n",
    "plt.ylabel(\"Oxygen Contentration in µmol/Kg\") # Naming the y-axis.\n",
    "plt.title(\"Oxygen Concentration Recorded at Different Depths of Water\") # Name the graph."
   ]
  },
  {
   "cell_type": "markdown",
   "metadata": {},
   "source": [
    "# Bubble chart "
   ]
  },
  {
   "cell_type": "code",
   "execution_count": null,
   "metadata": {},
   "outputs": [],
   "source": [
    "# Obtain a subset of the data such that NO2uM, NO3uM, and NH3uM are recorded.\n",
    "# Outliers are removed by capping NO2uM at 1.5.\n",
    "sub3 = bottle[(bottle[\"NO2uM\"] < 1.5) & (bottle[\"NO3uM\"] != 0) & (bottle[\"NH3uM\"] != 0) & (bottle[\"Depthm\"] <= 50)]"
   ]
  },
  {
   "cell_type": "code",
   "execution_count": null,
   "metadata": {},
   "outputs": [],
   "source": [
    "%matplotlib inline\n",
    "# Bubble Chart.\n",
    "plt.figure(figsize=(10, 10))\n",
    "plt.scatter(sub3[\"NO2uM\"], sub3[\"NO3uM\"], s=sub3[\"NH3uM\"])\n",
    "plt.xlabel(\"Nitrite Concentration (µmol/Kg)\") # Name the x-axis.\n",
    "plt.ylabel(\"Nirtate Concentration (µmol/Kg)\") # Name the y-axis.\n",
    "plt.title(\"Comparison of Nitrite, Nitrate, and Ammonium Concentration \\nfor Depth up to 50m (Bubble size == Ammonium)\"); # Naming the graph."
   ]
  },
  {
   "cell_type": "markdown",
   "metadata": {},
   "source": [
    "# Select Plot"
   ]
  },
  {
   "cell_type": "code",
   "execution_count": null,
   "metadata": {},
   "outputs": [],
   "source": [
    "# Obtain a subset of the data such that Po4uM is recorded.\n",
    "sub4 = bottle[(bottle[\"PO4uM\"] != 0) & (bottle[\"Depthm\"] <= 250)].copy()"
   ]
  },
  {
   "cell_type": "code",
   "execution_count": null,
   "metadata": {},
   "outputs": [],
   "source": [
    "# Create a new variable, DEPTHCATEGORY, by cutting Depthm into 5 categories.\n",
    "sub4[\"DEPTHCATEGORY\"] = pd.cut(sub4[\"Depthm\"], [0, 50, 100, 150, 200, 250])\n",
    "sub4[\"DEPTHCATEGORY\"] = sub4[\"DEPTHCATEGORY\"].astype(\"category\")\n",
    "sub4[\"DEPTHCATEGORY\"].value_counts()"
   ]
  },
  {
   "cell_type": "code",
   "execution_count": null,
   "metadata": {},
   "outputs": [],
   "source": [
    "# Split phosphate concentration readings into whether or not they were greater than mean value.\n",
    "def greater_than_mean(mean, row):\n",
    "    if row[\"PO4uM\"] > mean:\n",
    "        return 1\n",
    "    else:\n",
    "        return 0\n",
    "phosphate_mean = sub4[\"PO4uM\"].mean() # Find the mean value.\n",
    "sub4[\"POSPHATEGREATERTHANMEAN\"] = sub4.apply(lambda row: greater_than_mean(phosphate_mean, row), axis=1)\n",
    "sub4[\"POSPHATEGREATERTHANMEAN\"].value_counts() "
   ]
  },
  {
   "cell_type": "code",
   "execution_count": null,
   "metadata": {},
   "outputs": [],
   "source": [
    "# Create a new DataFrame containing only the required variables.\n",
    "sub5 = sub4[[\"DEPTHCATEGORY\", \"POSPHATEGREATERTHANMEAN\"]].copy()"
   ]
  },
  {
   "cell_type": "code",
   "execution_count": null,
   "metadata": {},
   "outputs": [],
   "source": [
    "# Create pivot table.\n",
    "table = pd.pivot_table(sub5, index=[\"DEPTHCATEGORY\"], columns=[\"POSPHATEGREATERTHANMEAN\"], aggfunc=np.size)\n",
    "print(table)"
   ]
  },
  {
   "cell_type": "code",
   "execution_count": null,
   "metadata": {},
   "outputs": [],
   "source": [
    "%matplotlib inline\n",
    "# HeatMap.\n",
    "fig = plt.figure(figsize=(10, 10))\n",
    "sns.heatmap(table, annot=True, fmt=\"d\")\n",
    "plt.xlabel(\"Whether or not greater than mean\") # Name the x-axis.\n",
    "plt.ylabel(\"Depth\") # Name the y-axis.\n",
    "plt.title(\"Counts of How Many Phosphate Concentration Readings Were \\nGreater Than Mean Value for Water Depths up to 250m.\"); # Name the graph."
   ]
  }
 ],
 "metadata": {
  "kernelspec": {
   "display_name": "Python 3.10.0 64-bit",
   "language": "python",
   "name": "python3"
  },
  "language_info": {
   "codemirror_mode": {
    "name": "ipython",
    "version": 3
   },
   "file_extension": ".py",
   "mimetype": "text/x-python",
   "name": "python",
   "nbconvert_exporter": "python",
   "pygments_lexer": "ipython3",
   "version": "3.10.0"
  },
  "vscode": {
   "interpreter": {
    "hash": "7e1998ff7f8aa20ada591c520b972326324e5ea05489af9e422744c7c09f6dad"
   }
  }
 },
 "nbformat": 4,
 "nbformat_minor": 2
}
